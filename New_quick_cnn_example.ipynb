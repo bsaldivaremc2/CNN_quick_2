{
 "cells": [
  {
   "cell_type": "markdown",
   "metadata": {},
   "source": [
    "# Test fast CNN model building"
   ]
  },
  {
   "cell_type": "markdown",
   "metadata": {
    "collapsed": true
   },
   "source": [
    "With this small library it is possible to deploy CNN quickly. Similarly to the definition of a Keras object, nonetheless, this library will be oriented to export it for a production like environment. For now, classification with Softmax."
   ]
  },
  {
   "cell_type": "markdown",
   "metadata": {},
   "source": [
    "### Example of usage"
   ]
  },
  {
   "cell_type": "markdown",
   "metadata": {},
   "source": [
    "Looading the library and other libraries. Later, transforming the data to have the usable format of the library. X_train to [m_rows,pic_height,pic_witdh,channels]"
   ]
  },
  {
   "cell_type": "code",
   "execution_count": 2,
   "metadata": {
    "collapsed": false
   },
   "outputs": [
    {
     "name": "stdout",
     "output_type": "stream",
     "text": [
      "(42000, 784) (42000, 10)\n",
      "(33600, 784) (33600, 10) (8400, 784) (8400, 10)\n"
     ]
    }
   ],
   "source": [
    "import matplotlib.pyplot as plt\n",
    "import numpy as np\n",
    "import tensorflow as tf\n",
    "import os \n",
    "import pandas as pd\n",
    "import sys\n",
    "import imp\n",
    "\n",
    "import cnn_model_build\n",
    "imp.reload(cnn_model_build)\n",
    "\n",
    "train_file = \"train.csv\"\n",
    "train_df = pd.read_csv(train_file)\n",
    "\n",
    "X = train_df.iloc[:,1:].values\n",
    "Y = pd.get_dummies(train_df['label']).values\n",
    "\n",
    "print(X.shape,Y.shape)\n",
    "\n",
    "train_dev_prop = 0.8\n",
    "train_dev_ind = int(X.shape[0]*train_dev_prop)\n",
    "X_train = X[0:train_dev_ind,:]\n",
    "Y_train = Y[0:train_dev_ind,:]\n",
    "\n",
    "X_dev = X[train_dev_ind:X.shape[0],:]\n",
    "Y_dev = Y[train_dev_ind:X.shape[0],:]\n",
    "\n",
    "print(X_train.shape,Y_train.shape,X_dev.shape,Y_dev.shape)\n",
    "\n",
    "X_test = X_dev\n",
    "Y_test = Y_dev\n",
    "\n",
    "X_train = X_train.reshape(X_train.shape[0],int(X_train.shape[1]**0.5),int(X_train.shape[1]**0.5),1)\n",
    "X_test = X_test.reshape(X_test.shape[0],int(X_test.shape[1]**0.5),int(X_test.shape[1]**0.5),1)\n"
   ]
  },
  {
   "cell_type": "markdown",
   "metadata": {},
   "source": [
    "## Training model"
   ]
  },
  {
   "cell_type": "markdown",
   "metadata": {},
   "source": [
    "Here we define two lists, one for the convolutional layers and the other for the fully connected layers. For every item we put in them, we specify the params to setup each one. The name_scope param is very important since it allows us to re-use variables in the library. Conv layers have batch-norm activated by default.   \n",
    "When it is training it learns the exponential weighted average using the tensorflow contrib layers. For testing and predictions uses the **is_training** variable as **False**.   \n",
    "**lr** is learning rate. **lrdr** is to indicate after how many iters the learning rate will decrease by a factor of **lrdf**.   \n",
    "**Save** and **restore** will perform those actions using the **model_name** file. If **batch_test** is set to True, **itx** and **ity** arrays will be used for testing and report the **accuracy**, **cross entropy**, **specificity** and **sensitivity**, for every batch processing."
   ]
  },
  {
   "cell_type": "code",
   "execution_count": null,
   "metadata": {
    "collapsed": false
   },
   "outputs": [],
   "source": [
    "cvl=[]\n",
    "cvl.append({'filter_size':2,'name_scope':'C1'})\n",
    "cvl.append({'filter_size':2,'name_scope':'C2','max_bool':True,'max_strides':[1,2,2,1]})\n",
    "cvl.append({'filter_size':2,'name_scope':'C3','max_bool':True,'max_strides':[1,2,2,1]})\n",
    "fcl = []\n",
    "fcl.append({'n':5,'prev_conv':True,'norm':True,'name_scope':'FC1'})\n",
    "fcl.append({'n':10,'norm':True,'name_scope':'FC2'})\n",
    "fcl.append({'n':10,'norm':True,'name_scope':'FC2'})\n",
    "cnn_model_build.train_model(ix=X_train,iy=Y_train,cvargs=cvl,fc_args=fcl,\n",
    "            itx=X_test,ity=Y_test,batch_test=False,\n",
    "            stddev_n=0.1,\n",
    "                iters=1,lr=0.001,lrdf=None,lrdr=None,\n",
    "                batch_size=256,\n",
    "                restore=False,save=True,model_name='MNIST_NL/mnis_01.ckpt'\n",
    "               )\n",
    "\n"
   ]
  },
  {
   "cell_type": "markdown",
   "metadata": {},
   "source": [
    "## Testing model"
   ]
  },
  {
   "cell_type": "markdown",
   "metadata": {},
   "source": [
    "To test the model and use a testing array independently of the training process, cnn_model_build.test_model should be used. This function will load the saved model specified in **model_dir** to get the accuracy, cross entropy, specificity and sensitivity."
   ]
  },
  {
   "cell_type": "code",
   "execution_count": null,
   "metadata": {
    "collapsed": true
   },
   "outputs": [],
   "source": [
    "cnn_model_build.test_model(iX=X_test,iY=Y_test,model_dir='MNIST_NL/mnis_01.ckpt')"
   ]
  },
  {
   "cell_type": "markdown",
   "metadata": {},
   "source": [
    "## Predicting with the model"
   ]
  },
  {
   "cell_type": "markdown",
   "metadata": {
    "collapsed": false
   },
   "source": [
    "In order to make predictions with the trained model, even with a single example, you can use **cnn_model_build.predict_model**. This function returns the score, which is the result of the softmax layer and the class prediction, which is the column number  starting by zero, of the classes trained."
   ]
  },
  {
   "cell_type": "code",
   "execution_count": null,
   "metadata": {
    "collapsed": true
   },
   "outputs": [],
   "source": [
    "score, class_pred = cnn_model_build.predict_model(iX=X_test[0:1,:,:,:],model_dir='MNIST_NL/mnis_01.ckpt')"
   ]
  }
 ],
 "metadata": {
  "anaconda-cloud": {},
  "kernelspec": {
   "display_name": "Python [conda env:py35]",
   "language": "python",
   "name": "conda-env-py35-py"
  },
  "language_info": {
   "codemirror_mode": {
    "name": "ipython",
    "version": 3
   },
   "file_extension": ".py",
   "mimetype": "text/x-python",
   "name": "python",
   "nbconvert_exporter": "python",
   "pygments_lexer": "ipython3",
   "version": "3.5.2"
  }
 },
 "nbformat": 4,
 "nbformat_minor": 1
}
